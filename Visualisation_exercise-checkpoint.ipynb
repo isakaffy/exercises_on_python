{
 "cells": [
  {
   "attachments": {},
   "cell_type": "markdown",
   "id": "f662d169",
   "metadata": {},
   "source": [
    "# Exercise: Visualisation in Python\n"
   ]
  },
  {
   "cell_type": "markdown",
   "id": "de45a481",
   "metadata": {},
   "source": [
    "## Exercises"
   ]
  },
  {
   "attachments": {},
   "cell_type": "markdown",
   "id": "a87f645e",
   "metadata": {},
   "source": [
    "We are the team managers of a soccer club and are keen on leveraging data to gain insights into the performance of our players. The dataset at our disposal contains valuable information about each player's skills, age, and overall rating. As managers, we have specific questions in mind that will help us make informed decisions and strategies for the upcoming season.\n",
    "\n",
    "Let's start by importing the libraries we're going to need and loading the dataset."
   ]
  },
  {
   "cell_type": "code",
   "execution_count": null,
   "id": "09e197cf",
   "metadata": {},
   "outputs": [],
   "source": [
    "import pandas as pd\n",
    "import numpy as np\n",
    "import matplotlib.pyplot as plt\n",
    "import seaborn as sns"
   ]
  },
  {
   "cell_type": "code",
   "execution_count": null,
   "id": "d8a39969",
   "metadata": {},
   "outputs": [],
   "source": [
    "soccer_df = pd.read_csv(\"football_players.csv\")\n",
    "soccer_df"
   ]
  },
  {
   "attachments": {},
   "cell_type": "markdown",
   "id": "cfafc3bf",
   "metadata": {},
   "source": [
    "Let's change the following columns to numerical values."
   ]
  },
  {
   "cell_type": "code",
   "execution_count": null,
   "id": "659da614",
   "metadata": {},
   "outputs": [],
   "source": [
    "cols = ['Age', 'Overall', 'Acceleration', 'Aggression',\n",
    "       'Agility', 'Balance', 'Ball control', 'Composure', 'Crossing', 'Curve',\n",
    "       'Dribbling', 'Finishing', 'Free kick accuracy', 'GK diving',\n",
    "       'GK handling', 'GK kicking', 'GK positioning', 'GK reflexes',\n",
    "       'Heading accuracy', 'Interceptions', 'Jumping', 'Long passing',\n",
    "       'Long shots', 'Marking', 'Penalties', 'Positioning', 'Reactions',\n",
    "       'Short passing', 'Shot power', 'Sliding tackle', 'Sprint speed',\n",
    "       'Stamina', 'Standing tackle', 'Strength', 'Vision', 'Volleys']\n",
    "\n",
    "soccer_df[cols] = soccer_df[cols].apply(pd.to_numeric, errors='coerce', axis=1)"
   ]
  },
  {
   "attachments": {},
   "cell_type": "markdown",
   "id": "5a0b7683",
   "metadata": {
    "tags": []
   },
   "source": [
    "### Exercise 1\n",
    "\n",
    "Now that we've loaded the dataset, we are curious about how players from different nationalities perform on average. We want to compare the overall ratings across the countries producing the highest number of players. We decide to create a bar graph to compare the average overall ratings of players, specifically for the top five nationalities, **based on the total number of players per country**. This insight will help us identify potential strengths within our team.\n",
    "\n",
    "Create a bar graph using `Matplotlib` to represent the average overall rating for players from the top five nationalities (**based on the number of players in each nationality**). Be sure to customise the graph as you see fit.\n"
   ]
  },
  {
   "cell_type": "code",
   "execution_count": null,
   "id": "c2ee76ec",
   "metadata": {},
   "outputs": [],
   "source": [
    "# insert code here"
   ]
  },
  {
   "attachments": {},
   "cell_type": "markdown",
   "id": "dc9b7dc6",
   "metadata": {},
   "source": [
    "### Exercise 2\n",
    "\n",
    "As we delve deeper into player analysis, we wonder about the age distribution of our team. A pie chart showcasing the percentage distribution of player ages will provide a clear picture. Understanding the age demographics helps us plan for the team's future and potential recruitment strategies. We have decided to categorise players into specific age groups, specifically `[15-19]`, `[20-24]`, `[25-29]`, `[30-34]`, and `[35+]`.\n",
    "\n",
    "Generate a pie chart to visualise the percentage distribution of player ages. \n",
    "\n",
    "**Hint**: `pd.cut` is a function in the Pandas library designed for binning or categorising continuous data into discrete intervals, also known as bins. This function is particularly useful when dealing with numerical data that we want to group into meaningful ranges. We can use `pd.cut` to help us create a more interpretable representation of player ages by categorising them into specific age groups.\n",
    "\n",
    "**Syntax**: \n",
    "\n",
    "`pd.cut(x, bins)`\n",
    "\n",
    "* `x`: The input array or Series that we want to bin.\n",
    "* `bins`: Defines the bin edges. It can be an integer specifying the number of equal-width bins or a sequence specifying the bin edges.\n",
    "\n",
    "Use bins of `[15, 20, 25, 30, 35]` to categorise players into specific age groups before plotting the pie chart.\n"
   ]
  },
  {
   "cell_type": "code",
   "execution_count": null,
   "id": "ae48fab0",
   "metadata": {},
   "outputs": [],
   "source": [
    "# insert code here"
   ]
  },
  {
   "attachments": {},
   "cell_type": "markdown",
   "id": "c9eda5c9",
   "metadata": {},
   "source": [
    "### Exercise 3\n",
    "\n",
    "To enhance our team's fitness and agility, we decide to explore how certain skills, like `Acceleration` and `Sprint speed`, vary across different age groups. A line graph depicting the trends will guide our training and conditioning strategies for players of different ages.\n",
    "\n",
    "Create a line graph using `Matplotlib` to show the trend of average `Acceleration` and `Sprint speed` across different age groups. Customise the graph appropriately.\n",
    "\n",
    "Assume that the age bins are defined as `[15, 20, 25, 30, 35]`."
   ]
  },
  {
   "cell_type": "code",
   "execution_count": null,
   "id": "b914d003",
   "metadata": {},
   "outputs": [],
   "source": [
    "# insert code here"
   ]
  },
  {
   "attachments": {},
   "cell_type": "markdown",
   "id": "0ad4e908",
   "metadata": {},
   "source": [
    "### Exercise 4\n",
    "\n",
    "Focused on excellence, we narrow our analysis to players from the top three nationalities based on the highest average `Overall` rating. Slicing the dataset, we create a box plot to compare skill distributions, providing a detailed profile of the top-performing players.\n",
    "\n",
    "Slice the dataset to only include players from the **top three nationalities** with the highest average `Overall` rating. Then, create a box plot using Seaborn to compare the distribution of specific skills, including `Dribbling`, `Short passing`, `Shot power`, and `Ball control` for players from these nations."
   ]
  },
  {
   "cell_type": "code",
   "execution_count": null,
   "id": "3a670161",
   "metadata": {},
   "outputs": [],
   "source": [
    "# insert code here"
   ]
  },
  {
   "attachments": {},
   "cell_type": "markdown",
   "id": "6bef84de",
   "metadata": {},
   "source": [
    "### Exercise 5\n",
    "\n",
    "Embracing modern tools, we want to utilise Plotly to create an interactive visualisation. This dynamic plot will empower us to explore the intricate relationships between our categories. We also want to include hover information to add an extra layer of insight for more informed decision-making.\n",
    "\n",
    "Implement an interactive visualisation using Plotly to allow users to explore the relationship between `Strength`, `Vision`, and the `Overall` rating using the **hover information** feature to allow the user to have an interactive view of the data.\n",
    "\n",
    "Arrange the plot as follows:\n",
    "\n",
    "* Place `Strength` on the x-axis.\n",
    "* Place `Vision` on the y-axis.\n",
    "* Colour-code the points to represent the `Overall` rating.\n",
    "* Include a hover that has the name of the player as well as the  `Strength`, `Vision`, and `Overall` ratings for each player."
   ]
  },
  {
   "cell_type": "code",
   "execution_count": null,
   "id": "b874d2c8",
   "metadata": {},
   "outputs": [],
   "source": [
    "# insert code here"
   ]
  },
  {
   "attachments": {},
   "cell_type": "markdown",
   "id": "1c08d272",
   "metadata": {},
   "source": [
    "# Summary\n",
    "\n",
    "This exercise underscores the symbiotic relationship between data preparation and visualisation. Mastery of both facets empowers us to unleash the full potential of Python's visualisation libraries, creating impactful visuals that tell compelling data stories.\n",
    "\n",
    "As we continue our data science journey, remember that proficiency in data preparation and visualisation techniques is a cornerstone for extracting actionable insights and making informed decisions. Keep honing these skills, explore diverse datasets, and embrace the creative possibilities that effective data visualisation affords."
   ]
  }
 ],
 "metadata": {
  "kernelspec": {
   "display_name": "Python 3 (ipykernel)",
   "language": "python",
   "name": "python3"
  },
  "language_info": {
   "codemirror_mode": {
    "name": "ipython",
    "version": 3
   },
   "file_extension": ".py",
   "mimetype": "text/x-python",
   "name": "python",
   "nbconvert_exporter": "python",
   "pygments_lexer": "ipython3",
   "version": "3.12.4"
  }
 },
 "nbformat": 4,
 "nbformat_minor": 5
}
